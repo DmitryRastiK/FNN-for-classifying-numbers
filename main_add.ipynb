{
 "cells": [
  {
   "cell_type": "code",
   "execution_count": null,
   "id": "bd8c1fac",
   "metadata": {},
   "outputs": [],
   "source": [
    "import os\n",
    "import json\n",
    "\n",
    "from PIL import Image\n",
    "\n",
    "import torch\n",
    "import torch.utils.data as data # для использования классов Dataset и Dataloader\n",
    "import torchvision\n",
    "import torchvision.transforms.v2 as tfs # для преобразования изображения в тензор\n",
    "\n",
    "import torch.nn as nn\n",
    "import torch.optim as optim\n",
    "from tqdm import tqdm # визуализация процесса обучения\n",
    "\n",
    "from torchvision.datasets import ImageFolder # можно использовать вместо класса Dataset\n",
    "# класс ImageFolder представляет изображения в RGB, то есть цветовых каналов будет 3\n",
    "# структура папок с изображениями должна быть всегда одинаковой"
   ]
  },
  {
   "cell_type": "code",
   "execution_count": 9,
   "id": "2789b864",
   "metadata": {},
   "outputs": [],
   "source": [
    "class MNISTDigitNN(nn.Module):\n",
    "    def __init__(self, input_dim, num_hidden, output_dim):\n",
    "        super().__init__()\n",
    "        self.layer1 = nn.Linear(input_dim, num_hidden)\n",
    "        self.layer2 = nn.Linear(num_hidden, output_dim)\n",
    "\n",
    "    def forward(self, x):\n",
    "        x = self.layer1(x)\n",
    "        x = nn.functional.relu(x) # функция активации ReLU\n",
    "        x = self.layer2(x)\n",
    "\n",
    "        return x\n",
    "    \n",
    "\n",
    "model = MNISTDigitNN(28 * 28, 32, 10) # задаем количество нейронов на каждом слое"
   ]
  },
  {
   "cell_type": "code",
   "execution_count": null,
   "id": "8c8e3050",
   "metadata": {},
   "outputs": [],
   "source": [
    "# можно задать свое собственное преобразование\n",
    "\n",
    "class RavelTransform(nn.Module):\n",
    "    def forward(swlf, item):\n",
    "        return item.ravel()\n",
    "\n",
    "# пример применения\n",
    "# transforms = tfs.Compose(RavelTransform()) "
   ]
  },
  {
   "cell_type": "code",
   "execution_count": 18,
   "id": "a7150cfc",
   "metadata": {},
   "outputs": [
    {
     "name": "stdout",
     "output_type": "stream",
     "text": [
      "torch.Size([32, 784])\n"
     ]
    }
   ],
   "source": [
    "# трансформация: изображение -> тензор -> градации серого (1 цветовой канал) -> \n",
    "# -> dtype=torch.float32 + нормировка (от 0 до 1) -> вытягиваем в один вектор\n",
    "transforms = tfs.Compose([tfs.ToImage(), tfs.Grayscale(),\n",
    "                           tfs.ToDtype(torch.float32, scale=True),\n",
    "                            tfs.Lambda(lambda _img: _img.ravel())]) \n",
    "# при использовании полносвязных слоев, входное изображение вытягивают в один вектор при подаче на вход сети\n",
    "d_train = ImageFolder(\"dataset/train\", transform=transforms)\n",
    "train_data = data.DataLoader(d_train, batch_size=32, shuffle=True) # batch_size - 32 файла, shuffle - перемешиваем\n",
    "\n",
    "it = iter(train_data)\n",
    "x, y = next(it) # next(it) - один батч\n",
    "\n",
    "print(x.size())"
   ]
  },
  {
   "cell_type": "code",
   "execution_count": null,
   "id": "0655cee6",
   "metadata": {},
   "outputs": [
    {
     "name": "stderr",
     "output_type": "stream",
     "text": [
      "Epoch [1/2], loss_mean=0.270: 100%|██████████| 1875/1875 [00:49<00:00, 37.96it/s]\n",
      "Epoch [2/2], loss_mean=0.186: 100%|██████████| 1875/1875 [00:30<00:00, 61.16it/s]\n"
     ]
    }
   ],
   "source": [
    "optimizer = optim.Adam(params=model.parameters(), lr=0.01)\n",
    "loss_function = nn.CrossEntropyLoss()\n",
    "epochs = 2\n",
    "\n",
    "model.train()\n",
    "\n",
    "best_loss = 1e10 # лучшее значение функции потерь, изначально установлено очень большое\n",
    "\n",
    "for _e in range(epochs):\n",
    "    loss_mean = 0 # среднее значение функции потерь, выводим в консоль в процессе обучения\n",
    "    lm_count = 0\n",
    "\n",
    "    train_tqdm = tqdm(train_data, leave=True)\n",
    "    for x_train, y_train in train_tqdm:\n",
    "        predict = model(x_train)\n",
    "        loss = loss_function(predict, y_train)\n",
    "\n",
    "        optimizer.zero_grad()\n",
    "        loss.backward()\n",
    "        optimizer.step()\n",
    "\n",
    "        lm_count += 1\n",
    "        loss_mean = 1/lm_count * loss.item() + (1 - 1/lm_count) * loss_mean # рекрентная формула\n",
    "        train_tqdm.set_description(f\"Epoch [{_e+1}/{epochs}], loss_mean={loss_mean:.3f}\")\n",
    "\n",
    "    if best_loss > loss_mean * 1.1:\n",
    "        # выполняем сохранение модели, если среднее значение функции потерь уменьшилось на 10%\n",
    "        best_loss = loss_mean\n",
    "        st = model.state_dict()\n",
    "        torch.save(st, f'model_MNIST_{_e}.tar')"
   ]
  },
  {
   "cell_type": "code",
   "execution_count": null,
   "id": "afd40369",
   "metadata": {},
   "outputs": [
    {
     "data": {
      "text/plain": [
       "<All keys matched successfully>"
      ]
     },
     "execution_count": 22,
     "metadata": {},
     "output_type": "execute_result"
    }
   ],
   "source": [
    "# загрузка модели\n",
    "\n",
    "st2 = torch.load('model_MNIST.tar', weights_only=True, map_location=\"cpu\") \n",
    "# weights_only=True - выполняется загрузка примитивных типов данных\n",
    "# map_location=\"cpu\" загружаем на CPU, можно выбрать map_location=\"cuda\"\n",
    "\n",
    "model.load_state_dict(st2) # передаем веса и смещения в модель"
   ]
  },
  {
   "cell_type": "code",
   "execution_count": 24,
   "id": "2a7f586c",
   "metadata": {},
   "outputs": [
    {
     "name": "stdout",
     "output_type": "stream",
     "text": [
      "0.9445\n"
     ]
    }
   ],
   "source": [
    "d_test = ImageFolder(\"dataset/test\", transform=transforms) # тестовая выборка\n",
    "test_data = data.DataLoader(d_test, batch_size=500, shuffle=False) # для тестирования не имеет смысла перемешивать выборку\n",
    "\n",
    "Q = 0\n",
    "\n",
    "# тестирование обученной НС\n",
    "model.eval()\n",
    "\n",
    "for x_test, y_test in test_data:\n",
    "    with torch.no_grad():\n",
    "        p = model(x_test)\n",
    "        p = torch.argmax(p, dim=1) \n",
    "        Q += torch.sum(p == y_test).item()\n",
    "\n",
    "Q /= len(d_test) # доля правильных ответов\n",
    "print(Q)"
   ]
  }
 ],
 "metadata": {
  "kernelspec": {
   "display_name": "Python 3",
   "language": "python",
   "name": "python3"
  },
  "language_info": {
   "codemirror_mode": {
    "name": "ipython",
    "version": 3
   },
   "file_extension": ".py",
   "mimetype": "text/x-python",
   "name": "python",
   "nbconvert_exporter": "python",
   "pygments_lexer": "ipython3",
   "version": "3.10.12"
  }
 },
 "nbformat": 4,
 "nbformat_minor": 5
}
