{
 "cells": [
  {
   "cell_type": "code",
   "execution_count": 1,
   "id": "5cce2cb7",
   "metadata": {},
   "outputs": [],
   "source": [
    "import os\n",
    "import json\n",
    "\n",
    "from PIL import Image\n",
    "\n",
    "import torch\n",
    "import torch.utils.data as data # для использования классов Dataset и Dataloader\n",
    "import torchvision\n",
    "import torchvision.transforms.v2 as tfs # для преобразования изображения в тензор"
   ]
  },
  {
   "cell_type": "code",
   "execution_count": 2,
   "id": "33f674e0",
   "metadata": {},
   "outputs": [],
   "source": [
    "class MNISTDigitDataset(data.Dataset):\n",
    "    def __init__(self, path, train=True, transform=None):\n",
    "        self.root = path\n",
    "        self.path = os.path.join(self.root, \"train\" if train else \"test\")\n",
    "        self.transform = transform\n",
    "\n",
    "        with open(os.path.join(self.root, \"format.json\"), \"r\") as fp:\n",
    "            self.format = json.load(fp)\n",
    "\n",
    "        self.length = 0 # размер обучающей выборки\n",
    "        self.files = [] # список файлов изображений\n",
    "        self.targets = torch.eye(10) # целевые значения\n",
    "\n",
    "        for _dir, _target in self.format.items():\n",
    "            path = os.path.join(self.path, _dir)\n",
    "            list_files = os.listdir(path)\n",
    "            self.length += len(list_files)\n",
    "            self.files.extend(\n",
    "                map(lambda _x: (os.path.join(path, _x), _target), list_files)\n",
    "            )\n",
    "\n",
    "    def __getitem__(self, item):\n",
    "        # возвращает один образ из выборки\n",
    "        path_file, target = self.files[item]\n",
    "        t = self.targets[target] # выделяем из единичной матрицы нужную строку по значению класса\n",
    "        img = Image.open(path_file)\n",
    "\n",
    "        if self.transform:\n",
    "            img = self.transform(img).ravel().float() / 255.0 # трансформируем в тензор и нормируем\n",
    "\n",
    "        return img, t\n",
    "\n",
    "    def __len__(self):\n",
    "        return self.length"
   ]
  },
  {
   "cell_type": "code",
   "execution_count": 3,
   "id": "cb81cdf2",
   "metadata": {},
   "outputs": [],
   "source": [
    "import torch.nn as nn\n",
    "import torch.optim as optim\n",
    "from tqdm import tqdm # визуализация процесса обучения"
   ]
  },
  {
   "cell_type": "code",
   "execution_count": 4,
   "id": "c775dc9a",
   "metadata": {},
   "outputs": [],
   "source": [
    "class MNISTDigitNN(nn.Module):\n",
    "    def __init__(self, input_dim, num_hidden, output_dim):\n",
    "        super().__init__()\n",
    "        self.layer1 = nn.Linear(input_dim, num_hidden)\n",
    "        self.layer2 = nn.Linear(num_hidden, output_dim)\n",
    "\n",
    "    def forward(self, x):\n",
    "        x = self.layer1(x)\n",
    "        x = nn.functional.relu(x) # функция активации ReLU\n",
    "        x = self.layer2(x)\n",
    "\n",
    "        return x\n",
    "    \n",
    "\n",
    "model = MNISTDigitNN(28 * 28, 32, 10) # задаем количество нейронов на каждом слое\n",
    "st = model.state_dict() # словарь состояний, хранит веса и смещения"
   ]
  },
  {
   "cell_type": "code",
   "execution_count": 5,
   "id": "e28c1fa2",
   "metadata": {},
   "outputs": [
    {
     "name": "stdout",
     "output_type": "stream",
     "text": [
      "Количество объектов в обучающей выборке: 60000\n"
     ]
    },
    {
     "name": "stderr",
     "output_type": "stream",
     "text": [
      "Epoch [1/2], loss_mean=0.283: 100%|██████████| 1875/1875 [00:19<00:00, 95.67it/s] \n",
      "Epoch [2/2], loss_mean=0.194: 100%|██████████| 1875/1875 [00:21<00:00, 86.86it/s] \n"
     ]
    }
   ],
   "source": [
    "to_tensor = tfs.ToImage()  # PILToTensor\n",
    "# при использовании полносвязных слоев, входное изображение вытягивают в один вектор при подаче на вход сети\n",
    "d_train = MNISTDigitDataset(\"dataset\", transform=to_tensor)\n",
    "\n",
    "print(f\"Количество объектов в обучающей выборке: {len(d_train)}\")\n",
    "\n",
    "train_data = data.DataLoader(d_train, batch_size=32, shuffle=True) # batch_size - 32 файла, shuffle - перемешиваем\n",
    "it = iter(train_data)\n",
    "x, y = next(it) # next(it) - один батч\n",
    "\n",
    "# print(x.size(), y.size())\n",
    "# print(y)\n",
    "\n",
    "optimizer = optim.Adam(params=model.parameters(), lr=0.01)\n",
    "loss_function = nn.CrossEntropyLoss()\n",
    "epochs = 2\n",
    "\n",
    "model.train()\n",
    "\n",
    "for _e in range(epochs):\n",
    "    loss_mean = 0 # среднее значение функции потерь, выводим в консоль в процессе обучения\n",
    "    lm_count = 0\n",
    "\n",
    "    train_tqdm = tqdm(train_data, leave=True)\n",
    "    for x_train, y_train in train_tqdm:\n",
    "        predict = model(x_train)\n",
    "        loss = loss_function(predict, y_train)\n",
    "\n",
    "        optimizer.zero_grad()\n",
    "        loss.backward()\n",
    "        optimizer.step()\n",
    "\n",
    "        lm_count += 1\n",
    "        loss_mean = 1/lm_count * loss.item() + (1 - 1/lm_count) * loss_mean # рекрентная формула\n",
    "        train_tqdm.set_description(f\"Epoch [{_e+1}/{epochs}], loss_mean={loss_mean:.3f}\")"
   ]
  },
  {
   "cell_type": "code",
   "execution_count": 6,
   "id": "322a3973",
   "metadata": {},
   "outputs": [
    {
     "name": "stdout",
     "output_type": "stream",
     "text": [
      "0.9444\n"
     ]
    }
   ],
   "source": [
    "d_test = MNISTDigitDataset(\"dataset\", train=False, transform=to_tensor) # тестовая выборка\n",
    "test_data = data.DataLoader(d_test, batch_size=500, shuffle=False) # для тестирования не имеет смысла перемешивать выборку\n",
    "\n",
    "Q = 0\n",
    "\n",
    "# тестирование обученной НС\n",
    "model.eval()\n",
    "\n",
    "for x_test, y_test in test_data:\n",
    "    with torch.no_grad():\n",
    "        p = model(x_test)\n",
    "        p = torch.argmax(p, dim=1)\n",
    "        y = torch.argmax(y_test, dim=1) # выбираем максимальные из 10 значений \n",
    "        Q += torch.sum(p == y).item()\n",
    "\n",
    "Q /= len(d_test) # доля правильных ответов\n",
    "print(Q)"
   ]
  },
  {
   "cell_type": "code",
   "execution_count": 7,
   "id": "f35ab395",
   "metadata": {},
   "outputs": [],
   "source": [
    "torch.save(st, 'model_MNIST.tar') # сохраняем модель (веса и смещения) как архив"
   ]
  },
  {
   "cell_type": "code",
   "execution_count": null,
   "id": "d21223e0",
   "metadata": {},
   "outputs": [
    {
     "data": {
      "text/plain": [
       "<All keys matched successfully>"
      ]
     },
     "execution_count": 8,
     "metadata": {},
     "output_type": "execute_result"
    }
   ],
   "source": [
    "# загрузка модели\n",
    "st2 = torch.load('model_MNIST.tar', weights_only=True, map_location=\"cpu\") \n",
    "# weights_only=True - выполняется загрузка примитивных типов данных\n",
    "# map_location=\"cpu\" загружаем на CPU, можно выбрать map_location=\"cuda\"\n",
    "\n",
    "model.load_state_dict(st2) # передаем веса и смещения в модель"
   ]
  },
  {
   "cell_type": "code",
   "execution_count": null,
   "id": "ab56c735",
   "metadata": {},
   "outputs": [],
   "source": [
    "d_test = ImageFolder(\"dataset/test\", transform=transforms) # тестовая выборка\n",
    "test_data = data.DataLoader(d_test, batch_size=500, shuffle=False) # для тестирования не имеет смысла перемешивать выборку\n",
    "\n",
    "Q = 0\n",
    "\n",
    "# тестирование обученной НС\n",
    "model.eval()\n",
    "\n",
    "for x_test, y_test in test_data:\n",
    "    with torch.no_grad():\n",
    "        p = model(x_test)\n",
    "        p = torch.argmax(p, dim=1) \n",
    "        Q += torch.sum(p == y_test).item()\n",
    "\n",
    "Q /= len(d_test) # доля правильных ответов\n",
    "print(Q)"
   ]
  }
 ],
 "metadata": {
  "kernelspec": {
   "display_name": "Python 3",
   "language": "python",
   "name": "python3"
  },
  "language_info": {
   "codemirror_mode": {
    "name": "ipython",
    "version": 3
   },
   "file_extension": ".py",
   "mimetype": "text/x-python",
   "name": "python",
   "nbconvert_exporter": "python",
   "pygments_lexer": "ipython3",
   "version": "3.10.12"
  }
 },
 "nbformat": 4,
 "nbformat_minor": 5
}
