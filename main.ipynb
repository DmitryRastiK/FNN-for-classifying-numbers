{
 "cells": [
  {
   "cell_type": "code",
   "execution_count": null,
   "id": "5cce2cb7",
   "metadata": {},
   "outputs": [],
   "source": [
    "import os\n",
    "import json\n",
    "\n",
    "from PIL import Image\n",
    "\n",
    "import torch\n",
    "import torch.nn as nn\n",
    "import torch.utils.data as data # для использования классов Dataset и Dataloader\n",
    "import torchvision\n",
    "import torchvision.transforms.v2 as tfs"
   ]
  },
  {
   "cell_type": "code",
   "execution_count": null,
   "id": "33f674e0",
   "metadata": {},
   "outputs": [],
   "source": [
    "class MNISTDigitDataset(data.Dataset):\n",
    "    def __init__(self, path, train=True, transform=None):\n",
    "        self.path = os.path.join(path, \"train\" if train else \"test\")\n",
    "        self.transform = transform\n",
    "\n",
    "        with open(os.path.join(self.path, \"format.json\"), \"r\") as fp:\n",
    "            self.format = json.load(fp)\n",
    "\n",
    "        self.length = 0 # размер обучающей выборки\n",
    "        self.files = [] # список файлов изображений\n",
    "        self.targets = torch.eye(10) # целевые значения\n",
    "\n",
    "        for _dir, _target in self.format.items():\n",
    "            path = os.path.join(self.path, _dir)\n",
    "            list_files = os.listdir(path)\n",
    "            self.length += len(list_files)\n",
    "            self.files.extend(\n",
    "                map(lambda _x: (os.path.join(path, _x), _target), list_files)\n",
    "            )\n",
    "\n",
    "    def __getitem__(self, item):\n",
    "        # возвращает один образ из выборки\n",
    "        path_file, target = self.files[item]\n",
    "        t = self.targets[target] # выделяем из единичной матрицы нужную строку по значению класса\n",
    "        img = Image.open(path_file)\n",
    "\n",
    "        if self.transform:\n",
    "            img = self.transform(img).ravel().float() / 255.0\n",
    "\n",
    "        return img, t\n",
    "\n",
    "    def __len__(self):\n",
    "        return self.length\n",
    "\n",
    "\n",
    "to_tensor = tfs.ToImage()  # PILToTensor\n",
    "d_train = MNISTDigitDataset(\"dataset\", transform=to_tensor)\n",
    "train_data = data.DataLoader(d_train, batch_size=32, shuffle=True)\n",
    "\n",
    "it = iter(train_data)\n",
    "x, y = next(it)\n",
    "print(len(d_train))\n"
   ]
  }
 ],
 "metadata": {
  "kernelspec": {
   "display_name": "Python 3",
   "language": "python",
   "name": "python3"
  },
  "language_info": {
   "codemirror_mode": {
    "name": "ipython",
    "version": 3
   },
   "file_extension": ".py",
   "mimetype": "text/x-python",
   "name": "python",
   "nbconvert_exporter": "python",
   "pygments_lexer": "ipython3",
   "version": "3.10.12"
  }
 },
 "nbformat": 4,
 "nbformat_minor": 5
}
